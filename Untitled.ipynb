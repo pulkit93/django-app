{
 "cells": [
  {
   "cell_type": "code",
   "execution_count": 284,
   "metadata": {
    "collapsed": true
   },
   "outputs": [],
   "source": [
    "import xml.etree.ElementTree as etree\n",
    "import xmltodict\n",
    "import sqlite3\n",
    "import json\n",
    "import os"
   ]
  },
  {
   "cell_type": "code",
   "execution_count": null,
   "metadata": {
    "collapsed": true
   },
   "outputs": [],
   "source": [
    "tree = etree.parse('data/ctgov2016_2017/NCT02645604.xml')"
   ]
  },
  {
   "cell_type": "code",
   "execution_count": 2,
   "metadata": {
    "collapsed": true
   },
   "outputs": [],
   "source": [
    "root = tree.getroot()"
   ]
  },
  {
   "cell_type": "code",
   "execution_count": 280,
   "metadata": {
    "collapsed": false
   },
   "outputs": [],
   "source": [
    "db = sqlite3.connect('db.sqlite')"
   ]
  },
  {
   "cell_type": "code",
   "execution_count": 4,
   "metadata": {
    "collapsed": false
   },
   "outputs": [
    {
     "data": {
      "text/plain": [
       "34"
      ]
     },
     "execution_count": 4,
     "metadata": {},
     "output_type": "execute_result"
    }
   ],
   "source": []
  },
  {
   "cell_type": "code",
   "execution_count": 18,
   "metadata": {
    "collapsed": false
   },
   "outputs": [
    {
     "data": {
      "text/plain": [
       "{'rank': '36729'}"
      ]
     },
     "execution_count": 18,
     "metadata": {},
     "output_type": "execute_result"
    }
   ],
   "source": []
  },
  {
   "cell_type": "code",
   "execution_count": 8,
   "metadata": {
    "collapsed": false
   },
   "outputs": [],
   "source": []
  },
  {
   "cell_type": "code",
   "execution_count": 138,
   "metadata": {
    "collapsed": false
   },
   "outputs": [],
   "source": [
    "def expand_old(root, branch):\n",
    "    #print(root.tag, root.attrib)\n",
    "    branch.append(root.tag)\n",
    "    if len(root.attrib):\n",
    "        for attribute in root.attrib:\n",
    "            branch.append(attribute)\n",
    "            data[' '.join(branch[1:])] = [root.attrib[attribute]]\n",
    "            branch.pop()\n",
    "    if len(root):\n",
    "        for child in root:\n",
    "            expand(child, branch)\n",
    "    else:\n",
    "        if ' '.join(branch[1:]) in data:\n",
    "            data[' '.join(branch[1:])].append(root.text)\n",
    "        else:\n",
    "            data[' '.join(branch[1:])] = [root.text]\n",
    "    branch.pop()"
   ]
  },
  {
   "cell_type": "code",
   "execution_count": 262,
   "metadata": {
    "collapsed": false
   },
   "outputs": [],
   "source": [
    "def expand(root, branch):\n",
    "    #print(root.tag, root.attrib)\n",
    "    branch.append(root.tag)\n",
    "    if len(root.attrib):\n",
    "        for attribute in root.attrib:\n",
    "            branch.append(attribute)\n",
    "            columns.append('_'.join(branch[1:]))\n",
    "            data.append([root.attrib[attribute]])\n",
    "            branch.pop()\n",
    "    if len(root):\n",
    "        for child in root:\n",
    "            expand(child, branch)\n",
    "    else:\n",
    "        if '_'.join(branch[1:]) in columns:\n",
    "            data[columns.index('_'.join(branch[1:]))].append(root.text)\n",
    "        else:\n",
    "            columns.append('_'.join(branch[1:]))\n",
    "            data.append([root.text])\n",
    "    branch.pop()"
   ]
  },
  {
   "cell_type": "code",
   "execution_count": 263,
   "metadata": {
    "collapsed": false
   },
   "outputs": [],
   "source": [
    "data = []\n",
    "columns = []\n",
    "branch = []\n",
    "expand(root, branch)"
   ]
  },
  {
   "cell_type": "code",
   "execution_count": 264,
   "metadata": {
    "collapsed": false
   },
   "outputs": [
    {
     "data": {
      "text/plain": [
       "['rank',\n",
       " 'required_header_download_date',\n",
       " 'required_header_link_text',\n",
       " 'required_header_url',\n",
       " 'id_info_org_study_id',\n",
       " 'id_info_secondary_id',\n",
       " 'id_info_nct_id',\n",
       " 'brief_title',\n",
       " 'official_title',\n",
       " 'sponsors_lead_sponsor_agency',\n",
       " 'sponsors_lead_sponsor_agency_class',\n",
       " 'source',\n",
       " 'brief_summary_textblock',\n",
       " 'detailed_description_textblock',\n",
       " 'overall_status',\n",
       " 'start_date',\n",
       " 'completion_date_type',\n",
       " 'completion_date',\n",
       " 'primary_completion_date_type',\n",
       " 'primary_completion_date',\n",
       " 'phase',\n",
       " 'study_type',\n",
       " 'has_expanded_access',\n",
       " 'study_design_info_observational_model',\n",
       " 'study_design_info_time_perspective',\n",
       " 'primary_outcome_measure',\n",
       " 'primary_outcome_time_frame',\n",
       " 'enrollment_type',\n",
       " 'enrollment',\n",
       " 'condition',\n",
       " 'eligibility_criteria_textblock',\n",
       " 'eligibility_gender',\n",
       " 'eligibility_minimum_age',\n",
       " 'eligibility_maximum_age',\n",
       " 'eligibility_healthy_volunteers',\n",
       " 'overall_official_last_name',\n",
       " 'overall_official_role',\n",
       " 'overall_official_affiliation',\n",
       " 'overall_contact_last_name',\n",
       " 'overall_contact_phone',\n",
       " 'overall_contact_email',\n",
       " 'location_facility_name',\n",
       " 'location_facility_address_city',\n",
       " 'location_facility_address_country',\n",
       " 'location_status',\n",
       " 'location_contact_last_name',\n",
       " 'location_contact_phone',\n",
       " 'location_contact_email',\n",
       " 'location_countries_country',\n",
       " 'reference_citation',\n",
       " 'reference_PMID',\n",
       " 'verification_date',\n",
       " 'lastchanged_date',\n",
       " 'firstreceived_date',\n",
       " 'responsible_party_responsible_party_type',\n",
       " 'keyword',\n",
       " 'condition_browse_mesh_term',\n",
       " 'intervention_browse_mesh_term']"
      ]
     },
     "execution_count": 264,
     "metadata": {},
     "output_type": "execute_result"
    }
   ],
   "source": [
    "columns"
   ]
  },
  {
   "cell_type": "code",
   "execution_count": 265,
   "metadata": {
    "collapsed": false
   },
   "outputs": [],
   "source": [
    "for i,datum in enumerate(data):\n",
    "    if len(datum) < 2:\n",
    "        data[i] = datum[0]\n",
    "    else:\n",
    "        data[i] = repr(datum)\n",
    "keys = tuple(data)"
   ]
  },
  {
   "cell_type": "code",
   "execution_count": 266,
   "metadata": {
    "collapsed": false
   },
   "outputs": [
    {
     "data": {
      "text/plain": [
       "('36729',\n",
       " 'ClinicalTrials.gov processed this data on May 16, 2017',\n",
       " 'Link to the current ClinicalTrials.gov record.',\n",
       " 'https://clinicaltrials.gov/show/NCT02645604',\n",
       " '999916033',\n",
       " '16-I-N033',\n",
       " 'NCT02645604',\n",
       " 'Artemether-lumefantrine Resistance Monitoring in Children With Uncomplicated Plasmodium Falciparum Malaria in Mali',\n",
       " 'Artemether-Lumefantrine Resistance Monitoring in Children With Uncomplicated Plasmodium Falciparum Malaria in Mali',\n",
       " 'National Institute of Allergy and Infectious Diseases (NIAID)',\n",
       " 'NIH',\n",
       " 'National Institutes of Health Clinical Center (CC)',\n",
       " '\\n      Background: Malaria is a disease caused by a parasite. People get malaria if they are bitten\\n      by an parasite-infected mosquito. A drug called artemether-lumefantrine (AL) can treat\\n      malaria. Although iAL has helped make the malaria problem less severe in the African country\\n      of Mali, researchers want to find out if malaria parasites are becoming resistant to this\\n      drug.\\n\\n      Objective: To test for AL-resistant parasites in children with malaria in Mali.\\n\\n      Eligibility:\\n\\n      AL resistance monitoring study: children aged 2 17 years who live in Kenieroba, Mali, and\\n      have malaria.\\n\\n      Blood collection substudy: healthy volunteers aged 18 65 years.\\n\\n      Design:\\n\\n      Volunteers for the substudy will have blood taken up to 6 times a year.\\n\\n      Study participants will be screened with 1 finger-prick blood sample. Girls may have a\\n      pregnancy test.\\n\\n      Baseline visit: Participants will have a physical exam. Their vital signs and temperature\\n      will be measured. They will answer questions about their symptoms. They will give a blood\\n      sample.\\n\\n      Participants will get 6 doses of AL over 3 days. They will take it in tablet form with milk.\\n\\n      Some participants will also stay at the clinic for 2 days. They will have a catheter placed\\n      in a vein. They will have blood taken frequently.\\n\\n      Participants will have follow-up visits for about 1 month. They may have:\\n\\n      Physical exam performed\\n\\n      Vital signs and temperature measured\\n\\n      Symptom questionnaire administered\\n\\n      Finger-prick blood sample and/or a regular blood sample taken\\n\\n      Pregnancy test given\\n\\n      Antimalarial medications other than AL provided.\\n    ',\n",
       " '\\n      Artemether-lumefantrine (AL) has replaced artesunate + amodiaquine as the frontline\\n      artemisinin (ART) combination therapy (ACT) for uncomplicated Plasmodium falciparum malaria\\n      in Mali. It is not known whether parasites are developing resistance to AL in Mali, where we\\n      are studying how naturally-acquired immunity and sickle-cell trait reduce malaria risk and\\n      parasite density in our pediatric study population. AL Resistance Monitoring Study: To\\n      monitor for emerging AL resistance in vivo and lumefantrine (LF) resistance ex vivo, we will\\n      conduct a standard WHO-recommended protocol to measure AL resistance rates over the next 4\\n      years. We will enroll all children aged 2-17 years with uncomplicated falciparum malaria and\\n      parasite count between 2,000 and 200,000 parasites per microliter, treat them with AL on D0,\\n      D1, and D2, confirm adequate LF plasma concentrations on Day 7, and monitor for malaria\\n      symptoms and recurrent parasitemias on D0, D1, D2, D3, D7, D14, D21, and D28. In related\\n      laboratory studies, we will use blood samples taken at the times of enrollment and\\n      recrudescence to measure parasite susceptibility to LF and other antimalarial drugs ex vivo;\\n      investigate genetic and transcriptional determinants of parasite response to AL in vivo and\\n      LF ex vivo; and prepare cryopreserved parasites for future work on drug action and\\n      resistance mechanisms. Parasite Clearance Substudy: We have recently discovered an\\n      agedependent acceleration of parasite clearance rates in Malian children, and postulate that\\n      it is mediated by IgG specific for Plasmodium falciparum erythrocyte membrane protein 1\\n      (PfEMP1), the parasite s main virulence factor on the surface of infected red blood cells\\n      (iRBCs). We hypothesize that ART exposure induces the premature expression of PfEMP1 on the\\n      surface of circulating ring-iRBCs in vivo. To test this hypothesis, we will calculate\\n      parasite clearance rates in a subset of subjects with relatively high parasite densities,\\n      and relate these rates to the ability of autologous IgG to recognize ring-iRBCs over the\\n      first 8 hours of ART exposure in vivo. In this same subset of patients, we will also explore\\n      whether AL induces parasite dormancy in vivo by removing parasites at H0, H6, H24, H48, D3,\\n      D7, and D14 following AL therapy, and cloning them to quantify the number of viable\\n      parasites. Blood Collection Study: We have found that sickle-cell trait (HbAS), like\\n      naturally-acquired humoral immunity, reduces both malaria risk and parasite density in our\\n      study population, and that this protection is associated with abnormal PfEMP1 display on the\\n      iRBC surface. To elucidate the molecular mechanism of this phenotype and explore how it may\\n      synergize with naturally-acquired IgG responses, we will investigate whether the development\\n      of PfEMP1 trafficking machinery is impaired in HbAS compared to normal homozygous hemoglobin\\n      A (HbAA) red blood cells (RBCs). To test this, we will purify parasite isolates from\\n      children with malaria, inoculate them into HbAA and HbAS RBCs from healthy adult donors, and\\n      follow their intraerythrocytic development using flow cytometry and electron microscopy.\\n    ',\n",
       " 'Recruiting',\n",
       " 'December 10, 2015',\n",
       " 'Anticipated',\n",
       " 'December 31, 2020',\n",
       " 'Anticipated',\n",
       " 'February 28, 2020',\n",
       " 'N/A',\n",
       " 'Observational',\n",
       " 'No',\n",
       " 'Case-Only',\n",
       " 'Cross-Sectional',\n",
       " 'Treatment failure up to Day 28. A subject will be defined as a treatment failure if the subject has developed P. falciparum parasitemia detected by thick blood smear (not by PCR) between the time that parasitemia becomes undetectable and Day 28,...',\n",
       " '28 days',\n",
       " 'Anticipated',\n",
       " '1700',\n",
       " 'Accute Falciparum Malaria',\n",
       " '\\n        -  INCLUSION CRITERIA:\\n\\n        Subject Inclusion Criteria: AL Resistance Monitoring Study\\n\\n          -  Resident of Kenieroba\\n\\n          -  Age 2 to 17 years\\n\\n          -  Uncomplicated falciparum malaria, confirmed by the presence of asexual P. falciparum\\n             parasites on blood film\\n\\n          -  Asexual P. falciparum count between 2,000 and 200,000/ microliters (inclusive) at\\n             screening\\n\\n          -  Tympanic or axillary temperature greater than or equal to 37.5 (Infinite)C or history\\n             of fever in the previous 24 hours\\n\\n          -  Written informed consent from the child s parent or guardian, and assent from\\n             children aged 14-17 years\\n\\n        Subject Inclusion Criteria: Parasite Clearance Substudy\\n\\n          -  Enrolled in the AL Resistance Monitoring Study\\n\\n          -  Asexual P. falciparum count greater than or equal to 10,000/ microliters at screening\\n\\n          -  Hb level greater than or equal to 7 g/dL\\n\\n        Subject Inclusion Criteria: Blood Collection Study\\n\\n          -  Age 18 to 65 years\\n\\n          -  Healthy-appearing\\n\\n          -  Hb level greater than or equal to 7 g/dL\\n\\n        EXCLUSION CRITERIA:\\n\\n        Subject Exclusion Criteria: AL Efficacy Study\\n\\n          -  Signs of severe malaria, defined as one or more of the following:\\n\\n               -  Blantyre Coma Scale less than or equal to 3/5 in children\\n\\n               -  Witnessed convulsions\\n\\n               -  Severe prostration\\n\\n               -  Shock (poor perfusion, cool peripheries)\\n\\n               -  Hb <5 g/dL\\n\\n               -  Jaundice\\n\\n               -  Respiratory distress (labored breathing, nasal flaring, intercostal retraction)\\n\\n               -  Anuria for 24 hours or more\\n\\n               -  Repetitive vomiting\\n\\n               -  Cessation of eating and drinking\\n\\n          -  Acute illness other than uncomplicated falciparum malaria requiring treatment\\n\\n          -  Presence of P. ovale or P. malariae parasites on blood film\\n\\n          -  Severe malnutrition: http://www.who.int/childgrowth/standards/Technical_report.pdf\\n\\n          -  Pregnancy or breastfeeding an infant\\n\\n          -  Planning to become pregnant in the next 1 month\\n\\n          -  History of taking an ACT in the previous 14 days\\n\\n          -  Known hypersensitivity to artemether or LF\\n\\n          -  Co-administration of strong inducers of CYP3A4 such as rifampin, carbamazepine,\\n             phenytoin, and St. John s wort\\n\\n          -  Splenectomy\\n\\n          -  Any condition that in the opinion of the investigator would render the patient unable\\n             to comply with the protocol (e.g., psychiatric disease)\\n\\n          -  Any health condition that in the opinion of the investigator would confound data\\n             analysis (e.g., HIV infection) or pose unnecessary exposure risks to the subject\\n\\n        Subject Exclusion Criteria: Parasite Clearance Substudy\\n\\n        -Prior enrollment in the Parasite Clearance Substudy in current transmission season\\n\\n        Subject Exclusion Criteria: Blood Collection Study\\n\\n          -  P. falciparum infection, as determined by thick blood smear examination (unless the\\n             subject is being screened for inclusion in the mosquito infectivity study, in which\\n             case parasitemia, as detected by RDT or smear, is an inclusion criteria)\\n\\n          -  History of taking an ACT in the previous 28 days\\n      ',\n",
       " 'All',\n",
       " '2 Years',\n",
       " '65 Years',\n",
       " 'Accepts Healthy Volunteers',\n",
       " 'Rick M Fairhurst, M.D.',\n",
       " 'Principal Investigator',\n",
       " 'National Institute of Allergy and Infectious Diseases (NIAID)',\n",
       " 'Rick M Fairhurst, M.D.',\n",
       " '(301) 402-7393',\n",
       " 'rfairhurst@mail.nih.gov',\n",
       " 'Malaria Research and Training Center',\n",
       " 'Bamako',\n",
       " 'Mali',\n",
       " 'Recruiting',\n",
       " 'Rick Fairhurst, M.D.',\n",
       " '(301) 402-7393',\n",
       " 'rfairhurst@mail.nih.gov',\n",
       " 'Mali',\n",
       " \"['Lopera-Mesa TM, Doumbia S, Chiang S, Zeituni AE, Konate DS, Doumbouya M, Keita AS, Stepniewska K, Traore K, Diakite SA, Ndiaye D, Sa JM, Anderson JM, Fay MP, Long CA, Diakite M, Fairhurst RM. Plasmodium falciparum clearance rates in response to artesunate in Malian children with malaria: effect of acquired immunity. J Infect Dis. 2013 Jun 1;207(11):1655-63. doi: 10.1093/infdis/jit082. Epub 2013 Feb 28.', 'Ndour PA, Lopera-Mesa TM, Diakité SA, Chiang S, Mouri O, Roussel C, Jauréguiberry S, Biligui S, Kendjo E, Claessens A, Ciceron L, Mazier D, Thellier M, Diakité M, Fairhurst RM, Buffet PA. Plasmodium falciparum clearance is rapid and pitting independent in immune Malian children treated with artesunate for malaria. J Infect Dis. 2015 Jan 15;211(2):290-7. doi: 10.1093/infdis/jiu427. Epub 2014 Sep 2.', 'Worldwide Antimalarial Resistance Network (WWARN) AL Dose Impact Study Group.. The effect of dose on the antimalarial efficacy of artemether-lumefantrine: a systematic review and pooled analysis of individual patient data. Lancet Infect Dis. 2015 Jun;15(6):692-702. doi: 10.1016/S1473-3099(15)70024-1. Epub 2015 Mar 16. Review. Erratum in: Lancet Infect Dis. 2015 May;15(5):505.']\",\n",
       " \"['23448727', '25183768', '25788162']\",\n",
       " 'December 13, 2016',\n",
       " 'April 21, 2017',\n",
       " 'January 1, 2016',\n",
       " 'Sponsor',\n",
       " 'Artemisinin Combination Therapy (ACT)',\n",
       " \"['Malaria', 'Malaria, Falciparum']\",\n",
       " \"['Artemether-lumefantrine combination', 'Artemisinins', 'Lumefantrine', 'Artemether']\")"
      ]
     },
     "execution_count": 266,
     "metadata": {},
     "output_type": "execute_result"
    }
   ],
   "source": [
    "keys"
   ]
  },
  {
   "cell_type": "code",
   "execution_count": 267,
   "metadata": {
    "collapsed": false
   },
   "outputs": [
    {
     "name": "stdout",
     "output_type": "stream",
     "text": [
      "create table ctgov (rank text,required_header_download_date text,required_header_link_text text,required_header_url text,id_info_org_study_id text,id_info_secondary_id text,id_info_nct_id text,brief_title text,official_title text,sponsors_lead_sponsor_agency text,sponsors_lead_sponsor_agency_class text,source text,brief_summary_textblock text,detailed_description_textblock text,overall_status text,start_date text,completion_date_type text,completion_date text,primary_completion_date_type text,primary_completion_date text,phase text,study_type text,has_expanded_access text,study_design_info_observational_model text,study_design_info_time_perspective text,primary_outcome_measure text,primary_outcome_time_frame text,enrollment_type text,enrollment text,condition text,eligibility_criteria_textblock text,eligibility_gender text,eligibility_minimum_age text,eligibility_maximum_age text,eligibility_healthy_volunteers text,overall_official_last_name text,overall_official_role text,overall_official_affiliation text,overall_contact_last_name text,overall_contact_phone text,overall_contact_email text,location_facility_name text,location_facility_address_city text,location_facility_address_country text,location_status text,location_contact_last_name text,location_contact_phone text,location_contact_email text,location_countries_country text,reference_citation text,reference_PMID text,verification_date text,lastchanged_date text,firstreceived_date text,responsible_party_responsible_party_type text,keyword text,condition_browse_mesh_term text,intervention_browse_mesh_term text)\n"
     ]
    }
   ],
   "source": [
    "query = \"create table ctgov ({0}{1})\"\n",
    "query = query.format(\" text,\".join(columns), \" text\")\n",
    "print(query)"
   ]
  },
  {
   "cell_type": "code",
   "execution_count": 268,
   "metadata": {
    "collapsed": false
   },
   "outputs": [
    {
     "ename": "OperationalError",
     "evalue": "table ctgov already exists",
     "output_type": "error",
     "traceback": [
      "\u001b[1;31m---------------------------------------------------------------------------\u001b[0m",
      "\u001b[1;31mOperationalError\u001b[0m                          Traceback (most recent call last)",
      "\u001b[1;32m<ipython-input-268-887846b063d4>\u001b[0m in \u001b[0;36m<module>\u001b[1;34m()\u001b[0m\n\u001b[0;32m      1\u001b[0m \u001b[0mc\u001b[0m \u001b[1;33m=\u001b[0m \u001b[0mdb\u001b[0m\u001b[1;33m.\u001b[0m\u001b[0mcursor\u001b[0m\u001b[1;33m(\u001b[0m\u001b[1;33m)\u001b[0m\u001b[1;33m\u001b[0m\u001b[0m\n\u001b[1;32m----> 2\u001b[1;33m \u001b[0mc\u001b[0m\u001b[1;33m.\u001b[0m\u001b[0mexecute\u001b[0m\u001b[1;33m(\u001b[0m\u001b[0mquery\u001b[0m\u001b[1;33m)\u001b[0m\u001b[1;33m\u001b[0m\u001b[0m\n\u001b[0m\u001b[0;32m      3\u001b[0m \u001b[0mc\u001b[0m\u001b[1;33m.\u001b[0m\u001b[0mclose\u001b[0m\u001b[1;33m(\u001b[0m\u001b[1;33m)\u001b[0m\u001b[1;33m\u001b[0m\u001b[0m\n",
      "\u001b[1;31mOperationalError\u001b[0m: table ctgov already exists"
     ]
    }
   ],
   "source": [
    "c = db.cursor()\n",
    "c.execute(query)\n",
    "c.close()"
   ]
  },
  {
   "cell_type": "code",
   "execution_count": 269,
   "metadata": {
    "collapsed": false
   },
   "outputs": [
    {
     "name": "stdout",
     "output_type": "stream",
     "text": [
      "insert into ctgov (rank,required_header_download_date,required_header_link_text,required_header_url,id_info_org_study_id,id_info_secondary_id,id_info_nct_id,brief_title,official_title,sponsors_lead_sponsor_agency,sponsors_lead_sponsor_agency_class,source,brief_summary_textblock,detailed_description_textblock,overall_status,start_date,completion_date_type,completion_date,primary_completion_date_type,primary_completion_date,phase,study_type,has_expanded_access,study_design_info_observational_model,study_design_info_time_perspective,primary_outcome_measure,primary_outcome_time_frame,enrollment_type,enrollment,condition,eligibility_criteria_textblock,eligibility_gender,eligibility_minimum_age,eligibility_maximum_age,eligibility_healthy_volunteers,overall_official_last_name,overall_official_role,overall_official_affiliation,overall_contact_last_name,overall_contact_phone,overall_contact_email,location_facility_name,location_facility_address_city,location_facility_address_country,location_status,location_contact_last_name,location_contact_phone,location_contact_email,location_countries_country,reference_citation,reference_PMID,verification_date,lastchanged_date,firstreceived_date,responsible_party_responsible_party_type,keyword,condition_browse_mesh_term,intervention_browse_mesh_term) values (?,?,?,?,?,?,?,?,?,?,?,?,?,?,?,?,?,?,?,?,?,?,?,?,?,?,?,?,?,?,?,?,?,?,?,?,?,?,?,?,?,?,?,?,?,?,?,?,?,?,?,?,?,?,?,?,?,?)\n"
     ]
    }
   ],
   "source": [
    "query = \"insert into ctgov ({0}) values (?{1})\"\n",
    "query = query.format(\",\".join(columns), \",?\" * (len(columns)-1))\n",
    "print(query)"
   ]
  },
  {
   "cell_type": "code",
   "execution_count": 270,
   "metadata": {
    "collapsed": false
   },
   "outputs": [],
   "source": [
    "c = db.cursor()\n",
    "c.execute(query, keys)\n",
    "c.close()"
   ]
  },
  {
   "cell_type": "code",
   "execution_count": 306,
   "metadata": {
    "collapsed": false
   },
   "outputs": [],
   "source": [
    "directory = 'data/ctgov2016_2017'\n",
    "for filename in os.listdir(directory):\n",
    "    tree = etree.parse(os.path.join(directory, filename))\n",
    "    root = tree.getroot()\n",
    "    data = []\n",
    "    columns = []\n",
    "    branch = []\n",
    "    expand(root, branch)\n",
    "    for i,datum in enumerate(data):\n",
    "        if len(datum) < 2:\n",
    "            data[i] = datum[0]\n",
    "        else:\n",
    "            data[i] = repr(datum)\n",
    "    keys = tuple(data)\n",
    "    \n",
    "    c = db.cursor()\n",
    "    c.execute(\"PRAGMA table_info(ctgov)\")\n",
    "    cols = [p[1] for p in c.fetchall()]\n",
    "    for col in columns:\n",
    "        if col not in cols:\n",
    "            query = \"alter table ctgov add column {0}{1}\"\n",
    "            query = query.format(col, \" text;\")\n",
    "            c.execute(query)\n",
    "    c.close()\n",
    "    \n",
    "    query = \"insert into ctgov ({0}) values (?{1})\"\n",
    "    query = query.format(\",\".join(columns), \",?\" * (len(columns)-1))\n",
    "    c = db.cursor()\n",
    "    c.execute(query, keys)\n",
    "    c.close()"
   ]
  },
  {
   "cell_type": "code",
   "execution_count": 307,
   "metadata": {
    "collapsed": false
   },
   "outputs": [],
   "source": [
    "db.commit()"
   ]
  },
  {
   "cell_type": "code",
   "execution_count": 308,
   "metadata": {
    "collapsed": false
   },
   "outputs": [],
   "source": [
    "db.close()"
   ]
  },
  {
   "cell_type": "code",
   "execution_count": 309,
   "metadata": {
    "collapsed": false
   },
   "outputs": [
    {
     "data": {
      "text/plain": [
       "'insert into ctgov (rank,required_header_download_date,required_header_link_text,required_header_url,id_info_org_study_id,id_info_nct_id,brief_title,official_title,sponsors_lead_sponsor_agency,sponsors_lead_sponsor_agency_class,source,oversight_info_has_dmc,brief_summary_textblock,detailed_description_textblock,overall_status,start_date,completion_date_type,completion_date,primary_completion_date_type,primary_completion_date,phase,study_type,has_expanded_access,study_design_info_allocation,study_design_info_intervention_model,study_design_info_primary_purpose,study_design_info_masking,primary_outcome_measure,primary_outcome_time_frame,primary_outcome_description,number_of_arms,enrollment_type,enrollment,condition,arm_group_arm_group_label,arm_group_arm_group_type,arm_group_description,intervention_intervention_type,intervention_intervention_name,intervention_description,intervention_arm_group_label,eligibility_criteria_textblock,eligibility_gender,eligibility_minimum_age,eligibility_maximum_age,eligibility_healthy_volunteers,overall_official_last_name,overall_official_role,overall_official_affiliation,overall_contact_last_name,overall_contact_email,location_facility_name,location_facility_address_city,location_facility_address_state,location_facility_address_zip,location_facility_address_country,location_status,location_contact_last_name,location_investigator_last_name,location_investigator_role,location_countries_country,verification_date,lastchanged_date,firstreceived_date,responsible_party_responsible_party_type,responsible_party_investigator_affiliation,responsible_party_investigator_full_name,responsible_party_investigator_title,condition_browse_mesh_term,patient_data_sharing_ipd) values (?,?,?,?,?,?,?,?,?,?,?,?,?,?,?,?,?,?,?,?,?,?,?,?,?,?,?,?,?,?,?,?,?,?,?,?,?,?,?,?,?,?,?,?,?,?,?,?,?,?,?,?,?,?,?,?,?,?,?,?,?,?,?,?,?,?,?,?,?,?)'"
      ]
     },
     "execution_count": 309,
     "metadata": {},
     "output_type": "execute_result"
    }
   ],
   "source": [
    "query"
   ]
  },
  {
   "cell_type": "code",
   "execution_count": 310,
   "metadata": {
    "collapsed": false
   },
   "outputs": [
    {
     "data": {
      "text/plain": [
       "('1',\n",
       " 'ClinicalTrials.gov processed this data on May 16, 2017',\n",
       " 'Link to the current ClinicalTrials.gov record.',\n",
       " 'https://clinicaltrials.gov/show/NCT03155854',\n",
       " '15-008280',\n",
       " 'NCT03155854',\n",
       " 'The Effects of Prophylactic Limited Palmar Fasciectomy on Surgical Outcomes and Scarring',\n",
       " \"The Effects of Prophylactic Limited Palmar Fasciectomy on Surgical Outcomes and Scarring for Dupuytren's Contracture Patients With Pretendinous Cord - Prospective Randomized Clinical Study (Pilot)\",\n",
       " 'Mayo Clinic',\n",
       " 'Other',\n",
       " 'Mayo Clinic',\n",
       " 'Yes',\n",
       " \"\\n      Research is instrumental for improving medical care and the patient experience. Finding new\\n      surgical techniques can create better outcomes and minimize recovery time and complications\\n      for patients. Some patients undergoing trigger finger surgery with a pre-existing\\n      Dupuytren's cord may develop a thickened surgical scar after surgery, which can cause\\n      discomfort, difficulty with moving or using, and other complications in the affected\\n      finger(s) or hand. The investigator is investigating a surgical technique to minimize these\\n      potential complications and scarring after surgery.\\n\\n      Subjects are being asked to take part in this research study because they have been\\n      diagnosed with trigger finger and pretendinous Dupuytren's cord and have decided to undergo\\n      surgery rather than try medical treatment.\\n    \",\n",
       " \"\\n      Patients who have surgery for trigger finger with a thickened overlying Dupuytren's cord are\\n      at risk for complications including but not limited to scarring, adhesions, stiffness,\\n      injury to underlying structures such as blood vessels, tendons and nerves, loss of motion,\\n      pain, bowstringing, and recurrent triggering or contracture. They have been shown to have\\n      higher risk for these complications including a thickened scar response. The cause for this\\n      is not fully understood, but it could be because the pretendinous cord was cut and not\\n      removed. By cutting and not removing this pretendinous cord, this may cause extra scarring\\n      that may lead to a thicker palmar scar that may become symptomatic. This study will\\n      investigate a different surgical method for relieving the tension caused by a pretendinous\\n      cord and whether it reduces complications and scarring.\\n    \",\n",
       " 'Recruiting',\n",
       " 'September 2016',\n",
       " 'Anticipated',\n",
       " 'September 2018',\n",
       " 'Anticipated',\n",
       " 'September 2018',\n",
       " 'N/A',\n",
       " 'Interventional',\n",
       " 'No',\n",
       " 'Randomized',\n",
       " 'Parallel Assignment',\n",
       " 'Treatment',\n",
       " 'No masking',\n",
       " \"['Change in Scar Progression as measured by the Vancouver Scar Scale', 'Change in Scar Progression as measured by the Patient and Observer Scar Assessment Scale']\",\n",
       " \"['baseline, up to 1 year', 'baseline, up to 1 year']\",\n",
       " '[\\'The Vancouver Scar Scale assesses 4 variables: vascularity, height/thickness, pliability, and pigmentation. Patient perception of his or her respective scars is not factored in to the overall score. The scores can range from 0 (normal) to 13 (severe scarring).\\', \"The Patient and Observer Scar Assessment Scale consists of two parts: a Patient Scale and an Observer Scale. Both scales contain seven items that are scored numerically on a 10-step scale. Together they make up the \\'Total Score\\' of the Patient and Observer Scale. The total score can range from 14 (normal) to 140 (worst scar imaginable).\"]',\n",
       " '2',\n",
       " 'Anticipated',\n",
       " '50',\n",
       " 'Dupuytren Contracture',\n",
       " \"['Pretendinous cord excision', 'Division/manipulation of the cord']\",\n",
       " \"['Active Comparator', 'Active Comparator']\",\n",
       " '[\"Patients will undergo either a targeted palmar fasciectomy procedure in which the involved Dupuytren\\'s fascia will be excised\", \"patients will undergo either a targeted palmar fasciectomy procedure in which the involved Dupuytren\\'s fascia will be incised.\"]',\n",
       " \"['Procedure', 'Procedure']\",\n",
       " \"['Pretendinous cord excision', 'Division/manipulation of the cord']\",\n",
       " \"['The cord/palmar fascia will be excised during surgery.', 'The pretendinous cord will be divided and incised during surgery.']\",\n",
       " \"['Pretendinous cord excision', 'Division/manipulation of the cord']\",\n",
       " '\\n        Inclusion Criteria:\\n\\n          -  Potential candidates for the study will be selected based upon clinical diagnosis of\\n             trigger finger with co-existing pretendinous cord. All potential subjects will have\\n             either failed non operative treatment or elected surgical treatment.\\n\\n        Exclusion Criteria:\\n\\n          -  <18 years of age\\n      ',\n",
       " 'All',\n",
       " '18 Years',\n",
       " 'N/A',\n",
       " 'No',\n",
       " 'Sanjeev Kakar, M.D.',\n",
       " 'Principal Investigator',\n",
       " 'Mayo Clinic',\n",
       " 'Michelle Hwang',\n",
       " 'hwang.soyun@mayo.edu',\n",
       " 'Mayo Clinic',\n",
       " 'Rochester',\n",
       " 'Minnesota',\n",
       " '55905',\n",
       " 'United States',\n",
       " 'Recruiting',\n",
       " 'Michelle Hwang',\n",
       " 'Sanjeev Kakar, M.D.',\n",
       " 'Principal Investigator',\n",
       " 'United States',\n",
       " 'May 2017',\n",
       " 'May 15, 2017',\n",
       " 'October 7, 2016',\n",
       " 'Principal Investigator',\n",
       " 'Mayo Clinic',\n",
       " 'Sanjeev (Sanj) Kakar, M.D., M.B.A.',\n",
       " 'Professor of Orthopedics,',\n",
       " \"['Contracture', 'Dupuytren Contracture']\",\n",
       " 'Undecided')"
      ]
     },
     "execution_count": 310,
     "metadata": {},
     "output_type": "execute_result"
    }
   ],
   "source": [
    "keys"
   ]
  },
  {
   "cell_type": "code",
   "execution_count": 300,
   "metadata": {
    "collapsed": false
   },
   "outputs": [
    {
     "data": {
      "text/plain": [
       "<sqlite3.Cursor at 0x2907395a2d0>"
      ]
     },
     "execution_count": 300,
     "metadata": {},
     "output_type": "execute_result"
    }
   ],
   "source": [
    "c = db.cursor()\n",
    "c.execute(\"PRAGMA table_info(ctgov)\")"
   ]
  },
  {
   "cell_type": "code",
   "execution_count": 301,
   "metadata": {
    "collapsed": false
   },
   "outputs": [
    {
     "data": {
      "text/plain": [
       "[(0, 'rank', 'text', 0, None, 0),\n",
       " (1, 'required_header_download_date', 'text', 0, None, 0),\n",
       " (2, 'required_header_link_text', 'text', 0, None, 0),\n",
       " (3, 'required_header_url', 'text', 0, None, 0),\n",
       " (4, 'id_info_org_study_id', 'text', 0, None, 0),\n",
       " (5, 'id_info_secondary_id', 'text', 0, None, 0),\n",
       " (6, 'id_info_nct_id', 'text', 0, None, 0),\n",
       " (7, 'brief_title', 'text', 0, None, 0),\n",
       " (8, 'official_title', 'text', 0, None, 0),\n",
       " (9, 'sponsors_lead_sponsor_agency', 'text', 0, None, 0),\n",
       " (10, 'sponsors_lead_sponsor_agency_class', 'text', 0, None, 0),\n",
       " (11, 'source', 'text', 0, None, 0),\n",
       " (12, 'brief_summary_textblock', 'text', 0, None, 0),\n",
       " (13, 'detailed_description_textblock', 'text', 0, None, 0),\n",
       " (14, 'overall_status', 'text', 0, None, 0),\n",
       " (15, 'start_date', 'text', 0, None, 0),\n",
       " (16, 'completion_date_type', 'text', 0, None, 0),\n",
       " (17, 'completion_date', 'text', 0, None, 0),\n",
       " (18, 'primary_completion_date_type', 'text', 0, None, 0),\n",
       " (19, 'primary_completion_date', 'text', 0, None, 0),\n",
       " (20, 'phase', 'text', 0, None, 0),\n",
       " (21, 'study_type', 'text', 0, None, 0),\n",
       " (22, 'has_expanded_access', 'text', 0, None, 0),\n",
       " (23, 'study_design_info_observational_model', 'text', 0, None, 0),\n",
       " (24, 'study_design_info_time_perspective', 'text', 0, None, 0),\n",
       " (25, 'primary_outcome_measure', 'text', 0, None, 0),\n",
       " (26, 'primary_outcome_time_frame', 'text', 0, None, 0),\n",
       " (27, 'enrollment_type', 'text', 0, None, 0),\n",
       " (28, 'enrollment', 'text', 0, None, 0),\n",
       " (29, 'condition', 'text', 0, None, 0),\n",
       " (30, 'eligibility_criteria_textblock', 'text', 0, None, 0),\n",
       " (31, 'eligibility_gender', 'text', 0, None, 0),\n",
       " (32, 'eligibility_minimum_age', 'text', 0, None, 0),\n",
       " (33, 'eligibility_maximum_age', 'text', 0, None, 0),\n",
       " (34, 'eligibility_healthy_volunteers', 'text', 0, None, 0),\n",
       " (35, 'overall_official_last_name', 'text', 0, None, 0),\n",
       " (36, 'overall_official_role', 'text', 0, None, 0),\n",
       " (37, 'overall_official_affiliation', 'text', 0, None, 0),\n",
       " (38, 'overall_contact_last_name', 'text', 0, None, 0),\n",
       " (39, 'overall_contact_phone', 'text', 0, None, 0),\n",
       " (40, 'overall_contact_email', 'text', 0, None, 0),\n",
       " (41, 'location_facility_name', 'text', 0, None, 0),\n",
       " (42, 'location_facility_address_city', 'text', 0, None, 0),\n",
       " (43, 'location_facility_address_country', 'text', 0, None, 0),\n",
       " (44, 'location_status', 'text', 0, None, 0),\n",
       " (45, 'location_contact_last_name', 'text', 0, None, 0),\n",
       " (46, 'location_contact_phone', 'text', 0, None, 0),\n",
       " (47, 'location_contact_email', 'text', 0, None, 0),\n",
       " (48, 'location_countries_country', 'text', 0, None, 0),\n",
       " (49, 'reference_citation', 'text', 0, None, 0),\n",
       " (50, 'reference_PMID', 'text', 0, None, 0),\n",
       " (51, 'verification_date', 'text', 0, None, 0),\n",
       " (52, 'lastchanged_date', 'text', 0, None, 0),\n",
       " (53, 'firstreceived_date', 'text', 0, None, 0),\n",
       " (54, 'responsible_party_responsible_party_type', 'text', 0, None, 0),\n",
       " (55, 'keyword', 'text', 0, None, 0),\n",
       " (56, 'condition_browse_mesh_term', 'text', 0, None, 0),\n",
       " (57, 'intervention_browse_mesh_term', 'text', 0, None, 0),\n",
       " (58, 'patient_data_sharing_ipd', 'text', 0, None, 0),\n",
       " (59, 'responsible_party_investigator_title', 'text', 0, None, 0)]"
      ]
     },
     "execution_count": 301,
     "metadata": {},
     "output_type": "execute_result"
    }
   ],
   "source": [
    "c.fetchall()"
   ]
  },
  {
   "cell_type": "code",
   "execution_count": 365,
   "metadata": {
    "collapsed": true
   },
   "outputs": [],
   "source": [
    "a = [1]\n",
    "b = [1,2,3]"
   ]
  },
  {
   "cell_type": "code",
   "execution_count": 366,
   "metadata": {
    "collapsed": true
   },
   "outputs": [],
   "source": [
    "if a:\n",
    "    b = True"
   ]
  },
  {
   "cell_type": "code",
   "execution_count": 367,
   "metadata": {
    "collapsed": false
   },
   "outputs": [
    {
     "data": {
      "text/plain": [
       "True"
      ]
     },
     "execution_count": 367,
     "metadata": {},
     "output_type": "execute_result"
    }
   ],
   "source": [
    "b"
   ]
  },
  {
   "cell_type": "code",
   "execution_count": 359,
   "metadata": {
    "collapsed": true
   },
   "outputs": [],
   "source": [
    "r = requests.get(\"http://havoc.appliedinformaticsinc.com/concepts?term=pulkit&user=156&token=4qz-cd4f7154ada7eeb63249\")"
   ]
  },
  {
   "cell_type": "code",
   "execution_count": 361,
   "metadata": {
    "collapsed": false
   },
   "outputs": [],
   "source": [
    "if len(eval(r.text)):\n",
    "    print(eval(r.text)[0]['cui'])\n",
    "    "
   ]
  },
  {
   "cell_type": "code",
   "execution_count": 362,
   "metadata": {
    "collapsed": false
   },
   "outputs": [
    {
     "data": {
      "text/plain": [
       "200"
      ]
     },
     "execution_count": 362,
     "metadata": {},
     "output_type": "execute_result"
    }
   ],
   "source": [
    "r.status_code"
   ]
  },
  {
   "cell_type": "code",
   "execution_count": null,
   "metadata": {
    "collapsed": true
   },
   "outputs": [],
   "source": []
  }
 ],
 "metadata": {
  "kernelspec": {
   "display_name": "Python 3",
   "language": "python",
   "name": "python3"
  },
  "language_info": {
   "codemirror_mode": {
    "name": "ipython",
    "version": 3
   },
   "file_extension": ".py",
   "mimetype": "text/x-python",
   "name": "python",
   "nbconvert_exporter": "python",
   "pygments_lexer": "ipython3",
   "version": "3.5.2"
  }
 },
 "nbformat": 4,
 "nbformat_minor": 2
}
