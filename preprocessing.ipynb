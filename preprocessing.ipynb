{
 "cells": [
  {
   "cell_type": "code",
   "execution_count": 16,
   "metadata": {
    "collapsed": true
   },
   "outputs": [],
   "source": [
    "directory = 'data/ctgov2016_2017'\n",
    "import xml.etree.ElementTree as etree\n",
    "import xmltodict\n",
    "import sqlite3\n",
    "import json\n",
    "import os"
   ]
  },
  {
   "cell_type": "code",
   "execution_count": 17,
   "metadata": {
    "collapsed": false
   },
   "outputs": [],
   "source": [
    "db = sqlite3.connect('db.sqlite3')"
   ]
  },
  {
   "cell_type": "code",
   "execution_count": 18,
   "metadata": {
    "collapsed": false
   },
   "outputs": [],
   "source": [
    "def expand(root, branch):\n",
    "    #print(root.tag, root.attrib)\n",
    "    branch.append(root.tag)\n",
    "    if len(root.attrib):\n",
    "        for attribute in root.attrib:\n",
    "            branch.append(attribute)\n",
    "            columns.append('_'.join(branch[1:]))\n",
    "            data.append([root.attrib[attribute]])\n",
    "            branch.pop()\n",
    "    if len(root):\n",
    "        for child in root:\n",
    "            expand(child, branch)\n",
    "    else:\n",
    "        if '_'.join(branch[1:]) in columns:\n",
    "            data[columns.index('_'.join(branch[1:]))].append(root.text)\n",
    "        else:\n",
    "            columns.append('_'.join(branch[1:]))\n",
    "            data.append([root.text])\n",
    "    branch.pop()"
   ]
  },
  {
   "cell_type": "code",
   "execution_count": 20,
   "metadata": {
    "collapsed": false
   },
   "outputs": [
    {
     "ename": "KeyboardInterrupt",
     "evalue": "",
     "output_type": "error",
     "traceback": [
      "\u001b[1;31m---------------------------------------------------------------------------\u001b[0m",
      "\u001b[1;31mKeyboardInterrupt\u001b[0m                         Traceback (most recent call last)",
      "\u001b[1;32m<ipython-input-20-6d89d4edef00>\u001b[0m in \u001b[0;36m<module>\u001b[1;34m()\u001b[0m\n\u001b[0;32m     22\u001b[0m     \u001b[1;32melse\u001b[0m\u001b[1;33m:\u001b[0m\u001b[1;33m\u001b[0m\u001b[0m\n\u001b[0;32m     23\u001b[0m         \u001b[0mc\u001b[0m \u001b[1;33m=\u001b[0m \u001b[0mdb\u001b[0m\u001b[1;33m.\u001b[0m\u001b[0mcursor\u001b[0m\u001b[1;33m(\u001b[0m\u001b[1;33m)\u001b[0m\u001b[1;33m\u001b[0m\u001b[0m\n\u001b[1;32m---> 24\u001b[1;33m         \u001b[0mc\u001b[0m\u001b[1;33m.\u001b[0m\u001b[0mexecute\u001b[0m\u001b[1;33m(\u001b[0m\u001b[1;34m\"PRAGMA table_info(ctgov)\"\u001b[0m\u001b[1;33m)\u001b[0m\u001b[1;33m\u001b[0m\u001b[0m\n\u001b[0m\u001b[0;32m     25\u001b[0m         \u001b[0mcols\u001b[0m \u001b[1;33m=\u001b[0m \u001b[1;33m[\u001b[0m\u001b[0mp\u001b[0m\u001b[1;33m[\u001b[0m\u001b[1;36m1\u001b[0m\u001b[1;33m]\u001b[0m \u001b[1;32mfor\u001b[0m \u001b[0mp\u001b[0m \u001b[1;32min\u001b[0m \u001b[0mc\u001b[0m\u001b[1;33m.\u001b[0m\u001b[0mfetchall\u001b[0m\u001b[1;33m(\u001b[0m\u001b[1;33m)\u001b[0m\u001b[1;33m]\u001b[0m\u001b[1;33m\u001b[0m\u001b[0m\n\u001b[0;32m     26\u001b[0m         \u001b[1;32mfor\u001b[0m \u001b[0mcol\u001b[0m \u001b[1;32min\u001b[0m \u001b[0mcolumns\u001b[0m\u001b[1;33m:\u001b[0m\u001b[1;33m\u001b[0m\u001b[0m\n",
      "\u001b[1;31mKeyboardInterrupt\u001b[0m: "
     ]
    }
   ],
   "source": [
    "cnt = 0 \n",
    "for filename in os.listdir(directory):\n",
    "    tree = etree.parse(os.path.join(directory, filename))\n",
    "    root = tree.getroot()\n",
    "    data = []\n",
    "    columns = []\n",
    "    branch = []\n",
    "    expand(root, branch)\n",
    "    for i,datum in enumerate(data):\n",
    "        if len(datum) < 2:\n",
    "            data[i] = datum[0]\n",
    "        else:\n",
    "            data[i] = repr(datum)\n",
    "    keys = tuple(data)\n",
    "    if cnt == 0:\n",
    "        query = \"create table if not exists ctgov({0}{1})\"\n",
    "        query = query.format(\" text,\".join(columns), \" text\")\n",
    "        c = db.cursor()\n",
    "        c.execute(query)\n",
    "        c.close()\n",
    "    else:\n",
    "        c = db.cursor()\n",
    "        c.execute(\"PRAGMA table_info(ctgov)\")\n",
    "        cols = [p[1] for p in c.fetchall()]\n",
    "        for col in columns:\n",
    "            if col not in cols:\n",
    "                query = \"alter table ctgov add column {0}{1}\"\n",
    "                query = query.format(col, \" text;\")\n",
    "                c.execute(query)\n",
    "        c.close()\n",
    "    \n",
    "    query = \"insert into ctgov ({0}) values (?{1})\"\n",
    "    query = query.format(\",\".join(columns), \",?\" * (len(columns)-1))\n",
    "    c = db.cursor()\n",
    "    c.execute(query, keys)\n",
    "    c.close()\n",
    "    cnt += 1"
   ]
  },
  {
   "cell_type": "code",
   "execution_count": null,
   "metadata": {
    "collapsed": false
   },
   "outputs": [],
   "source": [
    "db.commit()"
   ]
  },
  {
   "cell_type": "code",
   "execution_count": null,
   "metadata": {
    "collapsed": false
   },
   "outputs": [],
   "source": [
    "db.close()"
   ]
  },
  {
   "cell_type": "code",
   "execution_count": null,
   "metadata": {
    "collapsed": false
   },
   "outputs": [],
   "source": [
    "query"
   ]
  },
  {
   "cell_type": "code",
   "execution_count": null,
   "metadata": {
    "collapsed": false
   },
   "outputs": [],
   "source": [
    "keys"
   ]
  }
 ],
 "metadata": {
  "kernelspec": {
   "display_name": "Python 3",
   "language": "python",
   "name": "python3"
  },
  "language_info": {
   "codemirror_mode": {
    "name": "ipython",
    "version": 3
   },
   "file_extension": ".py",
   "mimetype": "text/x-python",
   "name": "python",
   "nbconvert_exporter": "python",
   "pygments_lexer": "ipython3",
   "version": "3.5.2"
  }
 },
 "nbformat": 4,
 "nbformat_minor": 2
}
